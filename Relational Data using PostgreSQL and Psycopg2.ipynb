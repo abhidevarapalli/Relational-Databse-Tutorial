{
 "cells": [
  {
   "cell_type": "markdown",
   "metadata": {},
   "source": [
    "#  Introduction"
   ]
  },
  {
   "cell_type": "markdown",
   "metadata": {},
   "source": [
    "In this tutorial we will be using PostgreSQL and psycopg to work with and analyze same databases. We will then be working with matplotlib and seaborn to provide visualizations of the given datasets. Before we dive into using these various modules, it is important to understand what each of these modules do and how we can use them!\n",
    "\n",
    "Note that the initial part of this tutorial will require setting of PostgreSQL and require some command line work  although the late portions will all be in python!"
   ]
  },
  {
   "cell_type": "markdown",
   "metadata": {},
   "source": [
    "`PostgreSQL` is a popular relational database management system that supports a large part of the SQL standard \n",
    "and offers many features such as triggers and foreign keys. PostgreSQL is used as the primary data store or \n",
    "data warehouse for many web, mobile, geospatial, and analytics applications.\n"
   ]
  },
  {
   "cell_type": "markdown",
   "metadata": {},
   "source": [
    "`Psycopg` is the most popular PostgreSQL database adapter for Python. This module will allow us to interface with PostegreSQL."
   ]
  },
  {
   "cell_type": "markdown",
   "metadata": {},
   "source": [
    "Finally, `matplotlib` is a python data visualization library that will allow us to provide graphs of the data we will query. The `seaborn` package is built on top of the matplotlib package to provide more attractive visualizations of the data."
   ]
  },
  {
   "cell_type": "markdown",
   "metadata": {},
   "source": [
    "# PostgreSQL Set Up\n"
   ]
  },
  {
   "cell_type": "markdown",
   "metadata": {},
   "source": [
    "PostgreSQL can be set up in the following manner on MacOS.  \n",
    "\n",
    "The simplest option is to download the Postgres.app for MacOS (http://postgresapp.com).  Double clicking the app will start Postgres. You will see an icon for an elephant on your menu bar. Right clicking the icon gives various options including quitting the app.\n",
    "\n",
    "To run postgres from a terminal window you need to add the installation path\n",
    "to your PATH environment variable. Step-3 of the set of installation instructions at\n",
    "https://postgresapp.com/ suggests changing /etc/paths.d . \n",
    "\n",
    "Do not follow this step as it is easier to adjust the PATH environment variable as shown below:\n",
    "\n",
    "From a terminal window type:\n",
    "\n",
    "`% touch ~/.bash_profile`\n",
    "\n",
    "`% open ~/.bash_profile`\n",
    "\n",
    "This will open the file .bash_profile in your default editor. Add the following lines to the\n",
    "very end of the .bash_profile file:\n",
    "\n",
    "export PATH=/Applications/Postgres.app/Contents/Versions/latest/bin:$PATH\n",
    "\n",
    "The path /Applications/Postgres.app/Contents/Versions/latest/bin/ should be the\n",
    "a similar path that appears when you open a psql terminal window via the elephant\n",
    "icon on your MacOS menu bar. Save the file .bash_profile and exit the editor. \n",
    "Close any open terminal windows and open a new terminal window. If you now do:\n",
    "\n",
    "`% which psql`\n",
    "\n",
    "you should see the absolute path to the executable\n",
    "/Applications/Postgres.app/Contents/Versions/latest/bin/psql"
   ]
  },
  {
   "cell_type": "markdown",
   "metadata": {},
   "source": [
    "Windows users can set up Postgres in a similar fashion using the following link https://www.postgresql.org/download/windows/"
   ]
  },
  {
   "cell_type": "markdown",
   "metadata": {},
   "source": [
    "To check if the set up is working we can make the following command on terminal\n",
    "\n",
    "\n",
    "`% psql -U postgres -d postgres`\n",
    "\n",
    "If the set up is correct you should see the prompt \n",
    "\n",
    "`postgres=#`\n",
    "\n",
    "Exit postgres by using `\\q` at the command line."
   ]
  },
  {
   "cell_type": "markdown",
   "metadata": {},
   "source": [
    "# Installing the libraries"
   ]
  },
  {
   "cell_type": "markdown",
   "metadata": {},
   "source": [
    "Before we begin, we must install the following python libraries using `pip`\n",
    "\n",
    "`$ pip install matplotlib`\n",
    "\n",
    "`$ pip install psycopg2`\n",
    "\n",
    "`$ pip install seaborn`"
   ]
  },
  {
   "cell_type": "markdown",
   "metadata": {},
   "source": [
    "After running the above installs the following comands should work for you!\n",
    "\n",
    "Note: we are inlining the matplotlib graphs so that they will be produced in the notebook instead of as a popping out."
   ]
  },
  {
   "cell_type": "code",
   "execution_count": 1,
   "metadata": {},
   "outputs": [],
   "source": [
    "import matplotlib.pyplot as plt\n",
    "\n",
    "import seaborn\n",
    "\n",
    "\n",
    "%matplotlib inline\n",
    "import psycopg2 as pg2\n",
    "import csv"
   ]
  },
  {
   "cell_type": "markdown",
   "metadata": {},
   "source": [
    "# Loading Data"
   ]
  },
  {
   "cell_type": "markdown",
   "metadata": {},
   "source": [
    "\n"
   ]
  },
  {
   "cell_type": "markdown",
   "metadata": {},
   "source": [
    "We can now begin coding with by starting up postgres."
   ]
  },
  {
   "cell_type": "code",
   "execution_count": 2,
   "metadata": {},
   "outputs": [
    {
     "data": {
      "text/plain": [
       "'Connected: postgres@postgres'"
      ]
     },
     "execution_count": 2,
     "metadata": {},
     "output_type": "execute_result"
    }
   ],
   "source": [
    "\n",
    "\n",
    "%reload_ext sql\n",
    "%sql postgres://postgres@localhost/postgres\n"
   ]
  },
  {
   "cell_type": "markdown",
   "metadata": {},
   "source": [
    "Now we can establish a connection by specifying the user and using a connect() method. This method takes in a sequence of parameters that the psycopg library uses to connect to the Postgres server. The connect method creates a client session with the database server that allows us to issue commands to it.\n",
    "\n",
    "\n",
    "We also will be setting autocommit to be true. By defaault in psycopg2, no data manipulation is saved if the commit() function is not called afterwards. By setting the connection instance to autocommit, we will not be required to save after each transaction. \n",
    "\n",
    "We will also use the connection object to create a cursor object. This cursor will allow us to use python code to execute commands on PostgreSQL through the execute method.\n"
   ]
  },
  {
   "cell_type": "code",
   "execution_count": 3,
   "metadata": {},
   "outputs": [],
   "source": [
    "# Establish a connection by specifying the database and user\n",
    "# This is the psycopg2 analog to\n",
    "#   %  psql -d postgres -U isdb\n",
    "\n",
    "con = pg2.connect(database='postgres', user='postgres')  \n",
    "\n",
    "# if you need to specify a password use an additional keywork parameter as shown below:\n",
    "# con = pg2.connect(database='postgres', user='postgres', password='YOUR PASSWORD')\n",
    "\n",
    "con.autocommit = True\n",
    "\n",
    "cur = con.cursor()"
   ]
  },
  {
   "cell_type": "markdown",
   "metadata": {},
   "source": [
    "# CRUD functions"
   ]
  },
  {
   "cell_type": "markdown",
   "metadata": {},
   "source": [
    "This example will introduce you to the CRUD operations in SQL and how you can perform them in Postgres. CRUD stands for create, read, update, and delete. These operations are the 4 persistent functions of database. The following example will walk you through how each of these functions can be performed.\n",
    "\n",
    "Let us begin with some simple examples to see how this works. First we will begin by creating a table that details some students and their GPA's.\n",
    "\n",
    "Notice the structure of this table. Each column on the left is the name of the column we are creating while on the left is the data type that this column will be storing. \n",
    "\n",
    "Now we can begin working with SQL commands through the execute() method. This function takes in a string of SQL code as a parameter and uses it to work with the database."
   ]
  },
  {
   "cell_type": "code",
   "execution_count": 4,
   "metadata": {},
   "outputs": [],
   "source": [
    "sql_grades_drop_create = '''\n",
    "  DROP TABLE IF EXISTS Grades;\n",
    "  \n",
    "  CREATE TABLE Grades (\n",
    "    id     int PRIMARY KEY,   \n",
    "    name   text,\n",
    "    GPA    float\n",
    "    )\n",
    "'''\n",
    "cur.execute(sql_grades_drop_create)"
   ]
  },
  {
   "cell_type": "markdown",
   "metadata": {},
   "source": [
    "Now that we have created a table, we can load data into it through the SQL INSERT INTO command. When inputting data it is necessary that the data types inputted match the data types specified when the table is first created. In the below example, uncommenting the last line will raise an error (try it out yourself)."
   ]
  },
  {
   "cell_type": "code",
   "execution_count": 5,
   "metadata": {},
   "outputs": [],
   "source": [
    "sql_insert = '''\n",
    "  INSERT INTO Grades (id, name, GPA)\n",
    "       VALUES \n",
    "        (1,'Sam',2.87),\n",
    "        (2,'Laura',3.33),\n",
    "        (3,'Denise',2.31),\n",
    "        (4,'John',3.23),\n",
    "        (5,'Nathan',3.75),\n",
    "        (6,'Gisele',3.5),\n",
    "        (7,'Cindy',3.8),\n",
    "        (8,'Phillip',4.0)   \n",
    "'''\n",
    "\n",
    "\n",
    "\n",
    "cur.execute(sql_insert)\n",
    "#cur.execute(sql_bad_insert)"
   ]
  },
  {
   "cell_type": "markdown",
   "metadata": {},
   "source": [
    "Let us write a few simple python functions to see our progress. We will be using the fetchall() method to retrieve data from any existing table related to the cursor attribute. We can loop through this fetchall object to read the table. "
   ]
  },
  {
   "cell_type": "code",
   "execution_count": 6,
   "metadata": {},
   "outputs": [
    {
     "name": "stdout",
     "output_type": "stream",
     "text": [
      "(1, 'Sam', 2.87)\n",
      "(2, 'Laura', 3.33)\n",
      "(3, 'Denise', 2.31)\n",
      "(4, 'John', 3.23)\n",
      "(5, 'Nathan', 3.75)\n",
      "(6, 'Gisele', 3.5)\n",
      "(7, 'Cindy', 3.8)\n",
      "(8, 'Phillip', 4.0)\n"
     ]
    }
   ],
   "source": [
    "def show_all_grades():\n",
    "    cur.execute(\"select * from Grades\")\n",
    "    rows = cur.fetchall()\n",
    "    for row in rows:\n",
    "        print(row)\n",
    "        \n",
    "show_all_grades()\n"
   ]
  },
  {
   "cell_type": "markdown",
   "metadata": {},
   "source": [
    "Now let us try updating our table. We can use the executemany() command here to perform multiple changes to the relation table at once"
   ]
  },
  {
   "cell_type": "code",
   "execution_count": 7,
   "metadata": {},
   "outputs": [
    {
     "name": "stdout",
     "output_type": "stream",
     "text": [
      "(2, 'Laura', 3.33)\n",
      "(3, 'Denise', 2.31)\n",
      "(4, 'John', 3.23)\n",
      "(6, 'Gisele', 3.5)\n",
      "(7, 'Cindy', 3.8)\n",
      "(8, 'Phillip', 4.0)\n",
      "(1, 'Sam', 3.87)\n",
      "(5, 'Nathan', 3.0)\n"
     ]
    }
   ],
   "source": [
    "def updateTable(changes):\n",
    "    sql_update_query = \"\"\"Update Grades SET GPA = %s where id = %s\"\"\"\n",
    "    cur.executemany(sql_update_query, changes)\n",
    "updateTable([(3.87,1), (3.0,5)])\n",
    "\n",
    "show_all_grades()"
   ]
  },
  {
   "cell_type": "markdown",
   "metadata": {},
   "source": [
    "A similar function could be performed to delete entries from the table as shown below."
   ]
  },
  {
   "cell_type": "code",
   "execution_count": 8,
   "metadata": {},
   "outputs": [
    {
     "name": "stdout",
     "output_type": "stream",
     "text": [
      "(2, 'Laura', 3.33)\n",
      "(4, 'John', 3.23)\n",
      "(6, 'Gisele', 3.5)\n",
      "(7, 'Cindy', 3.8)\n",
      "(8, 'Phillip', 4.0)\n",
      "(1, 'Sam', 3.87)\n",
      "(5, 'Nathan', 3.0)\n"
     ]
    }
   ],
   "source": [
    "def deleteTable(changes):\n",
    "    sql_delete_query = \"\"\"Delete FROM Grades WHERE GPA < %s\"\"\"\n",
    "    cur.executemany(sql_delete_query, changes)\n",
    "deleteTable([(3.0,)])\n",
    "show_all_grades()"
   ]
  },
  {
   "cell_type": "markdown",
   "metadata": {},
   "source": [
    "We can also perform general SQL operations to the table to filter and order the data. Note that these are not permanent changes to the original table."
   ]
  },
  {
   "cell_type": "code",
   "execution_count": 9,
   "metadata": {},
   "outputs": [
    {
     "name": "stdout",
     "output_type": "stream",
     "text": [
      "('Phillip', 4.0)\n",
      "('Sam', 3.87)\n",
      "('Cindy', 3.8)\n",
      "('Gisele', 3.5)\n",
      "('Laura', 3.33)\n"
     ]
    }
   ],
   "source": [
    "\n",
    "def grade_above(n):\n",
    "    s = '''\n",
    "    SELECT  name, gpa\n",
    "    FROM Grades\n",
    "    WHERE gpa > %s\n",
    "    ORDER by gpa DESC;\n",
    "    '''\n",
    "    cur.execute(s, (n,))\n",
    "    rows = cur.fetchall()\n",
    "    for row in rows:\n",
    "        print(row)\n",
    "\n",
    "\n",
    "grade_above(3.3)"
   ]
  },
  {
   "cell_type": "markdown",
   "metadata": {},
   "source": [
    "# Integrity Constraints"
   ]
  },
  {
   "cell_type": "markdown",
   "metadata": {},
   "source": [
    "One of the biggest advantages of PostgreSQL is that we can enforce multiple constraints on our table to ensure that \n",
    "our table fits whatever constraints and checks we want on it. In this part of the tutorial, we will quickly run you over how\n",
    "we can ensure the integrity of our tables. The orimary key is an example of one type of integrity constraint that prevents duplicate values allowing us to uniquely identify each row.\n",
    "\n",
    "Let us first write an sql statement to create a table that stores products at a supermarket and information about their prices."
   ]
  },
  {
   "cell_type": "code",
   "execution_count": 10,
   "metadata": {},
   "outputs": [],
   "source": [
    "product1 = '''\n",
    "  DROP TABLE IF EXISTS Product;\n",
    "  \n",
    "  CREATE TABLE Product (\n",
    "    product_no  int PRIMARY KEY,   \n",
    "    name   text,\n",
    "    price  numeric,\n",
    "    discounted_price numeric\n",
    "    )\n",
    "'''\n",
    "sql_insert = '''\n",
    "  INSERT INTO Product (product_no, name, price, discounted_price)\n",
    "       VALUES   \n",
    "        (1,'Cake',10,1),\n",
    "        (2,'Pan',24,8),\n",
    "        (3,'Milk',6,0)\n",
    "    \n",
    "'''\n",
    "\n",
    "cur.execute(product1)\n",
    "cur.execute(sql_insert)\n",
    "\n"
   ]
  },
  {
   "cell_type": "markdown",
   "metadata": {},
   "source": [
    "When inputting data it is necessary that the data types inputted match the data types specified when the table is first created. In the below example, uncommenting the last line will raise an error (try it out yourself). \n",
    "\n",
    "We have used the primary key as an optional paramter to specify that this column cannot contain any duplicate values and hence can be used to uniquely identify any row in the table. Hence inserting a duplicate product_id as below will also raise an error."
   ]
  },
  {
   "cell_type": "code",
   "execution_count": 11,
   "metadata": {},
   "outputs": [],
   "source": [
    "sql_bad_insert = '''\n",
    "  INSERT INTO Product (product_no, name, price, discounted_price)\n",
    "       VALUES \n",
    "        (8,'Milk','six',0)  \n",
    "'''\n",
    "\n",
    "sql_duplicate_insert = '''\n",
    "  INSERT INTO product (product_no, name, price, discounted_price)\n",
    "       VALUES \n",
    "        (1,'Bread',3,1)  \n",
    "'''\n",
    "\n",
    "#cur.execute(sql_duplicate_insert)\n",
    "\n",
    "#cur.execute(sql_bad_insert)"
   ]
  },
  {
   "cell_type": "markdown",
   "metadata": {},
   "source": [
    "Look at the SQL query below. It would appear that it shouldn't fail as all the data types conform to what we set when we created the table! However, it clearly shouldn't work as the price is negative.  This is where we can use checks to help ensure more specific conditions we want for our tables. Checks specify a condition that will disallow insertions if the condition is not specified. \n",
    "\n",
    "The create table command below does a better job of dissallowing negative insertions. Although this table is better than our initial one, it is still not complete. There is a problem with it."
   ]
  },
  {
   "cell_type": "code",
   "execution_count": 12,
   "metadata": {},
   "outputs": [],
   "source": [
    "sql_negative_insert = '''\n",
    "  INSERT INTO Product (product_no, name, price, discounted_price)\n",
    "       VALUES \n",
    "        (5,'Milk',-3,0)  \n",
    "'''\n",
    "\n",
    "f ='''CREATE TABLE products (\n",
    "    product_no integer,\n",
    "    name text,\n",
    "    price numeric,\n",
    "    CHECK (price > 0),\n",
    "    discounted_price numeric,\n",
    "    CHECK (discounted_price > 0)\n",
    ");'''"
   ]
  },
  {
   "cell_type": "markdown",
   "metadata": {},
   "source": [
    "In the above table, if the discounted price where to be greater than the initial price, this would lead to a negative price. This is something we don't want to happen. Constraints work similar to checks but can work accross multiple columns in a table. The below table shows an example."
   ]
  },
  {
   "cell_type": "code",
   "execution_count": 13,
   "metadata": {},
   "outputs": [],
   "source": [
    "t ='''\n",
    "\n",
    "    DROP TABLE IF EXISTS Product;\n",
    "    CREATE TABLE product (\n",
    "    product_no integer PRIMARY KEY,\n",
    "    name text,\n",
    "    price numeric,\n",
    "    CHECK (price > 0),\n",
    "    discounted_price numeric,\n",
    "    CHECK (discounted_price > 0),\n",
    "    CONSTRAINT valid_discount CHECK (price > discounted_price)\n",
    ");'''\n",
    "\n",
    "cur.execute(t)\n",
    "\n"
   ]
  },
  {
   "cell_type": "markdown",
   "metadata": {},
   "source": [
    "The below commands will now fail when uncommented due to out new checks! Uncomment each of the lines below to see the type of error."
   ]
  },
  {
   "cell_type": "code",
   "execution_count": 14,
   "metadata": {},
   "outputs": [],
   "source": [
    "\n",
    "sql_highDiscount_insert = '''\n",
    "  INSERT INTO product (product_no, name, price, discounted_price)\n",
    "       VALUES \n",
    "        (6,'Bread',4,5)  \n",
    "'''\n",
    "\n",
    "#cur.execute(sql_negative_insert)\n",
    "#cur.execute(sql_highDiscount_insert)"
   ]
  },
  {
   "cell_type": "markdown",
   "metadata": {},
   "source": [
    "# Example #1 NFL Suspension Data"
   ]
  },
  {
   "cell_type": "markdown",
   "metadata": {},
   "source": [
    "Now that we know the basics, we can try a little more of an interesting example that deals with real life NFL player suspensions data. Psycopg2 has a useful copy_from() functionality that allows us to easily read and load data from a CSV into an existing relational table. When calling this function it is important to specify that the delimiter is a comma as otherwise the function takes a tab to be the default delimiter. "
   ]
  },
  {
   "cell_type": "code",
   "execution_count": 15,
   "metadata": {},
   "outputs": [
    {
     "name": "stdout",
     "output_type": "stream",
     "text": [
      "('F. Davis', 'WAS', 'Indef.', 'Substance abuse repeated offense', 'Marijuana-related', 2014)\n",
      "('J. Blackmon', 'JAX', 'Indef.', 'Substance abuse repeated offense', '', 2014)\n",
      "('L. Brazill', 'IND', 'Indef.', 'Substance abuse repeated offense', '', 2014)\n",
      "('T. Jackson', 'WAS', 'Indef.', 'Substance abuse repeated offense', '', 2014)\n",
      "('M. Hapes', 'NYG', 'Indef.', 'Personal conduct', 'Gambling-related', 1946)\n",
      "('R. Rice', 'BAL', 'Indef.', 'Personal conduct', 'Domestic violence', 2014)\n",
      "('F. Filchock', 'NYG', '36', 'Personal conduct', 'Gambling-related', 1947)\n",
      "('J. Jolly', 'GB', '32', 'Substance abuse repeated offense', 'Arrest felony possession of codeine', 2010)\n",
      "('O. Thurman', 'CIN', '32', 'Substance abuse repeated offense', '', 2008)\n",
      "('A. Jones', 'TEN', '20', 'Personal conduct', 'Multiple arrests', 2007)\n",
      "('A. Schlichter', 'IND', '16', 'Personal conduct', 'Gambling-related', 1983)\n",
      "('D. Stallworth', 'NE', '16', 'Personal conduct', 'DUI manslaughter', 2009)\n",
      "('W. Bryant', 'ARI', '16', 'Substance abuse repeated offense', '', 2005)\n",
      "('J. Evans', 'TEN', '16', 'Substance abuse repeated offense', '', 2000)\n",
      "('T. Jackson', 'TB', '16', 'Substance abuse repeated offense', '', 2012)\n",
      "('D. Washington', 'ARI', '16', 'Substance abuse repeated offense', 'Marijuana-related', 2014)\n",
      "('B. Williams', 'PHI', '16', 'Substance abuse repeated offense', 'Marijuana-related', 2001)\n",
      "('R. Williams', 'MIA', '16', 'Substance abuse repeated offense', '', 2006)\n",
      "('S. Wilson', 'CIN', '16', 'Substance abuse repeated offense', 'Cocaine-related', 1989)\n",
      "('J. Gordon', 'CLE', '16', 'Substance abuse repeated offense', 'Marijuana-related', 2014)\n",
      "('O. Smith', 'MIN', '16', 'Substance abuse repeated offense', '\"Found with dried urine and \"\"The Original Whizzinator\"\"\"', 2005)\n",
      "('K. Robinson', 'GB', '16', 'Substance abuse repeated offense', '', 2006)\n",
      "('P. Hornung', 'GB', '14', 'Personal conduct', 'Gambling-related', 1982)\n",
      "('A. Karras', 'DET', '14', 'Personal conduct', 'Gambling-related', 1963)\n",
      "('J. Brent', 'DAL', '10', 'Personal conduct', 'DUI manslaughter', 2014)\n",
      "('D. Evans', 'SEA', '8', 'PEDs repeated offense', '', 2013)\n",
      "('J. Ferguson', 'FREE', '8', 'PEDs repeated offense', '', 2010)\n",
      "('A. Jackson', 'BAL', '8', 'PEDs repeated offense', '', 2013)\n",
      "('W. Saunders', 'IND', '8', 'PEDs repeated offense', '', 2013)\n",
      "('H. Thomas', 'FREE', '8', 'PEDs repeated offense', '', 2010)\n",
      "('R. Tucker', 'CLE', '8', 'PEDs repeated offense', '', 2010)\n",
      "('C. Henry', 'CIN', '8', 'Personal conduct', 'Multiple arrests', 2007)\n",
      "('T. Johnson', 'BAL', '8', 'Personal conduct', 'Arrest possession of weapon', 2006)\n",
      "('J. Blackmon', 'JAX', '8', 'Substance abuse repeated offense', '', 2013)\n",
      "('T. Couch', 'JAX', '6', 'PEDs', '', 2007)\n",
      "('K. Lang', 'DEN', '6', 'PEDs', '', 2007)\n",
      "('R. McBean', 'DEN', '6', 'PEDs', '\"Alleged \"\"non-human\"\" urine in system\"', 2012)\n",
      "('D.J. Williams', 'DEN', '6', 'PEDs', '\"Alleged \"\"non-human\"\" urine in system\"', 2012)\n",
      "('W. Hill', 'NYG', '6', 'Substance abuse repeated offense', '', 2014)\n",
      "('A. Haynesworth', 'TEN', '5', 'In-game violence', 'Stomping on player', 2006)\n",
      "('B. Sochia', 'MIA', '5', 'PEDs', '', 1990)\n",
      "('T. Pryor', 'OAK', '5', 'Personal conduct', 'Improper gifts while in college', 2011)\n",
      "('M. Ariey', 'GB', '4', 'PEDs', '', 1989)\n",
      "('O. Ayanbadejo', 'CHI', '4', 'PEDs', '', 2007)\n",
      "('S. Bailey', 'STL', '4', 'PEDs', '', 2014)\n",
      "('A. Barbre', 'CAR', '4', 'PEDs', '', 2012)\n",
      "('T. Bennett', 'DET', '4', 'PEDs', '', 2001)\n",
      "('J. Black', 'WAS', '4', 'PEDs', '', 2012)\n",
      "('D. Blackstock', 'CIN', '4', 'PEDs', '', 2008)\n",
      "('B. Bolden', 'BAL', '4', 'PEDs', '', 2012)\n",
      "('D. Boston', 'MIA', '4', 'PEDs', '', 2004)\n",
      "('D. Bowe', 'KC', '4', 'PEDs', '', 2009)\n",
      "('D. Brown', 'HOU', '4', 'PEDs', '', 2012)\n",
      "('G. Brown', 'WAS', '4', 'PEDs', '', 2014)\n",
      "('R. Buchanan', 'JAX', '4', 'PEDs', '', 2002)\n",
      "('B. Buckner', 'CAR', '4', 'PEDs', '', 2003)\n",
      "('T. Burse', 'SEA', '4', 'PEDs', '', 1989)\n",
      "('L. Bush', 'KC', '4', 'PEDs', '', 2002)\n",
      "('B. Chamberlain', 'MIN', '4', 'PEDs', '', 2003)\n",
      "('J. Chatman', 'NYJ', '4', 'PEDs', '', 2012)\n",
      "('M. Cloud', 'KC', '4', 'PEDs', '', 2003)\n",
      "('J. Cooper', 'OAK', '4', 'PEDs', '', 2007)\n",
      "('S. Cooper', 'SD', '4', 'PEDs', '', 2008)\n",
      "('J. Cunningham', 'NE', '4', 'PEDs', '', 2012)\n",
      "('B. Cushing', 'HOU', '4', 'PEDs', '', 2010)\n",
      "('S. Davis', 'ARI', '4', 'PEDs', '', 1997)\n",
      "('T. Doctor', 'BUF', '4', 'PEDs', '', 1989)\n",
      "('S. Doctor', 'BUF', '4', 'PEDs', '', 1989)\n",
      "('M. Douglass', 'DET', '4', 'PEDs', '', 1989)\n",
      "('J. Dunbar', 'STL', '4', 'PEDs', '', 2013)\n",
      "('R. Edwards', 'MIN', '4', 'PEDs', '', 2007)\n",
      "('B. Eldridge', 'STL', '4', 'PEDs', '', 2012)\n",
      "('L. Flowers', 'DEN', '4', 'PEDs', '', 2004)\n",
      "('E. Gant', 'CIN', '4', 'PEDs', '', 2010)\n",
      "('D. Graham', 'HOU', '4', 'PEDs', '', 2002)\n",
      "('L. Grant', 'FREE', '4', 'PEDs', '', 2013)\n",
      "('V. Green', 'SD', '4', 'PEDs', '', 2012)\n",
      "('S. Gregory', 'NYJ', '4', 'PEDs', '', 2010)\n",
      "('C. Griffin', 'WAS', '4', 'PEDs', '', 2012)\n",
      "('W. Guy', 'SEA', '4', 'PEDs', '', 2012)\n",
      "('J. Haden', 'CLE', '4', 'PEDs', '', 2012)\n",
      "('A. Hall', 'TEN', '4', 'PEDs', '', 2011)\n",
      "('J. Hanson', 'PHI', '4', 'PEDs', '', 2009)\n",
      "('J. Hawley', 'ATL', '4', 'PEDs', '', 2012)\n",
      "('K. Henderson', 'SF', '4', 'PEDs', '', 1989)\n",
      "('C. Henry', 'TEN', '4', 'PEDs', '', 2007)\n",
      "('W. Hill', 'NYG', '4', 'PEDs', '', 2012)\n",
      "('A. Holmes', 'OAK', '4', 'PEDs', '', 2013)\n",
      "('B. Irvin', 'DET', '4', 'PEDs', '', 2013)\n",
      "('A. Jackson', 'BAL', '4', 'PEDs', '', 2012)\n",
      "('R. James', 'ATL', '4', 'PEDs', '', 2010)\n",
      "('M. Jaworski', 'BUF', '4', 'PEDs', '', 1989)\n",
      "('J. Jenkins', 'WAS', '4', 'PEDs', '', 2013)\n",
      "('T. Jervey', 'SF', '4', 'PEDs', '', 1999)\n",
      "('L. Johnson', 'PHI', '4', 'PEDs', '', 2014)\n",
      "('D. Jordan', 'MIA', '4', 'PEDs', '', 2014)\n",
      "('J. Kennedy', 'NYG', '4', 'PEDs', '', 2011)\n",
      "('V. Kirk', 'STL', '4', 'PEDs', '', 1989)\n",
      "('J. Knott', 'PHI', '4', 'PEDs', '', 2014)\n",
      "('L. Lawton', 'OAK', '4', 'PEDs', '', 2009)\n",
      "('M. Lehr', 'ATL', '4', 'PEDs', '', 2006)\n",
      "('T. Lewis', 'WAS', '4', 'PEDs', '', 2011)\n",
      "('D. Love', 'MIN', '4', 'PEDs', '', 2013)\n",
      "('D. Lutui', 'TEN', '4', 'PEDs', '', 2013)\n",
      "('A. Madise', 'DEN', '4', 'PEDs', '', 2005)\n",
      "('R. Mathis', 'IND', '4', 'PEDs', '', 2014)\n",
      "('G. McRath', 'TEN', '4', 'PEDs', '', 2010)\n",
      "('S. Merriman', 'SD', '4', 'PEDs', '', 2006)\n",
      "('G. Miller', 'CHI', '4', 'PEDs', '', 2013)\n",
      "('J. Miller', 'CHI', '4', 'PEDs', '', 1999)\n",
      "('N. Miller', 'STL', '4', 'PEDs', '', 2012)\n",
      "('D. Moch', 'CIN', '4', 'PEDs', '', 2012)\n",
      "('J. Moffitt', 'CLE', '4', 'PEDs', '', 2011)\n",
      "('E. Moore', 'NYG', '4', 'PEDs', '', 1993)\n",
      "('S. Morris', 'MIA', '4', 'PEDs', '', 2006)\n",
      "('M. Neal', 'GB', '4', 'PEDs', '', 2012)\n",
      "('S. Nealy', 'MIN', '4', 'PEDs', '', 2014)\n",
      "('A. Neblett', 'CAR', '4', 'PEDs', '', 2012)\n",
      "('K. Newman', 'ATL', '4', 'PEDs', '', 2003)\n",
      "('A. Odom', 'CIN', '4', 'PEDs', '', 2010)\n",
      "('C. Pace', 'NYJ', '4', 'PEDs', '', 2009)\n",
      "('J. Peppers', 'CAR', '4', 'PEDs', '', 2002)\n",
      "('K. Peterson', 'DEN', '4', 'PEDs', '', 2007)\n",
      "('L. Petitgout', 'TB', '4', 'PEDs', '', 2008)\n",
      "('A. Pettis', 'STL', '4', 'PEDs', '', 2014)\n",
      "('A. Pinnock', 'SD', '4', 'PEDs', '', 2004)\n",
      "('R. Putzier', 'SF', '4', 'PEDs', '', 1989)\n",
      "('R. Razzano', 'TB', '4', 'PEDs', '', 2005)\n",
      "('L. Reynolds', 'JAX', '4', 'PEDs', '', 2013)\n",
      "('G. Robinson', 'ARI', '4', 'PEDs', '', 2012)\n",
      "('S. Rogers', 'DET', '4', 'PEDs', '', 2006)\n",
      "('T. Sash', 'NYG', '4', 'PEDs', '', 2012)\n",
      "('T. Sauerbrun', 'DEN', '4', 'PEDs', '', 2006)\n",
      "('Q. Saulsberry', 'DEN', '4', 'PEDs', '', 2012)\n",
      "('O. Scandrick', 'DAL', '4', 'PEDs', 'MDMA', 2014)\n",
      "('S. Shanle', 'STL', '4', 'PEDs', '', 2003)\n",
      "('D. Shelton', 'CHI', '4', 'PEDs', '', 2002)\n",
      "('T.J. Slaughter', 'JAX', '4', 'PEDs', '', 2002)\n",
      "('R. Solt', 'PHI', '4', 'PEDs', '', 1989)\n",
      "('B. Spikes', 'NE', '4', 'PEDs', '', 2010)\n",
      "('S. Springs', 'SEA', '4', 'PEDs', '', 2001)\n",
      "('J. Steed', 'PIT', '4', 'PEDs', '', 1995)\n",
      "('M. Stevens', 'PHI', '4', 'PEDs', '', 1997)\n",
      "('M. Stroud', 'JAX', '4', 'PEDs', '', 2007)\n",
      "('A. Talib', 'TB', '4', 'PEDs', '', 2012)\n",
      "('H. Taylor', 'CHI', '4', 'PEDs', '', 1999)\n",
      "('H. Thomas', 'NO', '4', 'PEDs', '', 2006)\n",
      "('J. Thomas', 'IND', '4', 'PEDs', '', 2011)\n",
      "('R. Tucker', 'CLE', '4', 'PEDs', '', 2007)\n",
      "('K. Uecker', 'GB', '4', 'PEDs', '', 1989)\n",
      "('A. Ulmer', 'MIN', '4', 'PEDs', '', 1997)\n",
      "('J. Waddy', 'GB', '4', 'PEDs', '', 1998)\n",
      "('J. Welbourn', 'KC', '4', 'PEDs', '', 2005)\n",
      "('L. West', 'NYG', '4', 'PEDs', '', 1999)\n",
      "('P. Wiggins', 'PIT', '4', 'PEDs', '', 1998)\n",
      "('B. Williams', 'CIN', '4', 'PEDs', '', 2014)\n",
      "('K. Winslow', 'NYJ', '4', 'PEDs', '', 2013)\n",
      "('E. Wright', 'TB', '4', 'PEDs', '', 2012)\n",
      "('F. Wycheck', 'WAS', '4', 'PEDs', '', 1994)\n",
      "('T. Zbikowski', 'FREE', '4', 'PEDs', '', 2013)\n",
      "('L. Ziemba', 'CAR', '4', 'PEDs', '', 2012)\n",
      "('W. Welker', 'DEN', '4', 'PEDs', '', 2014)\n",
      "('J. Allen', 'KC', '4', 'Personal conduct', 'DUI arrest multiple', 2007)\n",
      "('J. Cooper', 'CAR', '4', 'Personal conduct', 'DUI arrest drugs', 2003)\n",
      "('M. Goodson', 'NYJ', '4', 'Personal conduct', 'Arrest possession of weapon and marijuana', 2013)\n",
      "('C. Henry', 'CIN', '4', 'Personal conduct', 'Mulitple arrests', 2007)\n",
      "('B. McKinnie', 'MIN', '4', 'Personal conduct', 'Accused of disorderly conduct resisting arrest', 2008)\n",
      "('B. Roethlisberger', 'PIT', '4', 'Personal conduct', 'Sexual assault', 2012)\n",
      "('E. Warfield', 'KC', '4', 'Personal conduct', 'DUI arrest multiple', 2005)\n",
      "('M. Prater', 'DEN', '4', 'Substance abuse', 'Alcohol-related', 2014)\n",
      "('F. Alexander', 'HOU', '4', 'Substance abuse', '', 2014)\n",
      "('J. Blackmon', 'JAX', '4', 'Substance abuse', '', 2013)\n",
      "('L. Brazill', 'IND', '4', 'Substance abuse', '', 2013)\n",
      "('B. Collins', 'MIA', '4', 'Substance abuse', '', 2013)\n",
      "('F. Davis', 'WAS', '4', 'Substance abuse', 'Marijuana-related', 2011)\n",
      "('J. Ferguson', 'NYJ', '4', 'Substance abuse', '', 1999)\n",
      "('W. Green', 'CLE', '4', 'Substance abuse', 'Marijuana-related', 2003)\n",
      "('R. Harrison', 'NE', '4', 'Substance abuse', '', 2007)\n",
      "('W. Hill', 'NYG', '4', 'Substance abuse', 'Marijuana-related', 2013)\n",
      "('S. Holmes', 'NYJ', '4', 'Substance abuse', '', 2010)\n",
      "('J. Hosley', 'TEN', '4', 'Substance abuse', '', 2014)\n",
      "('R. Jackson', 'WAS', '4', 'Substance abuse', '', 2013)\n",
      "('T. Jackson', 'TB', '4', 'Substance abuse', '', 2009)\n",
      "('J. James', 'ARI', '4', 'Substance abuse', '', 2013)\n",
      "('V. Miller', 'DEN', '4', 'Substance abuse', 'Marijuana-related', 2013)\n",
      "('O. Mobley', 'DEN', '4', 'Substance abuse', '', 1989)\n",
      "('B. Moore', 'WAS', '4', 'Substance abuse', '', 2014)\n",
      "('S. Nelson', 'BUF', '4', 'Substance abuse', '', 2010)\n",
      "('B. Reed', 'PIT', '4', 'Substance abuse', '', 2013)\n",
      "('D. Robinson', 'CAR', '4', 'Substance abuse', '', 2010)\n",
      "('A. Sanders', 'JAX', '4', 'Substance abuse', '', 2014)\n",
      "('V. Taua', 'SEA', '4', 'Substance abuse', '', 2013)\n",
      "('C. Thompson', 'BAL', '4', 'Substance abuse', '', 2013)\n",
      "('W. Thurmond', 'SEA', '4', 'Substance abuse', '', 2013)\n",
      "('D. Washington', 'ARI', '4', 'Substance abuse', '', 2012)\n",
      "('R. Watkins', 'KC', '4', 'Substance abuse', '', 2014)\n",
      "('L. White', 'FREE', '4', 'Substance abuse', '', 2010)\n",
      "('R. Williams', 'MIA', '4', 'Substance abuse', '', 2005)\n",
      "('B. Browner', 'SEA', '4', 'Substance abuse repeated offense', '', 2013)\n",
      "('J. Lewis', 'BAL', '4', 'Substance abuse repeated offense', '', 2004)\n",
      "('A. Smith', 'HOU', '3', 'In-game violence', \"Ripping off opponent's helmet\", 2013)\n",
      "('V. Amoia', 'NO', '3', 'PEDs', '', 1989)\n",
      "('J. Brandom', 'ARI', '3', 'PEDs', '', 1990)\n",
      "('L. Cheek', 'DAL', '3', 'PEDs', '', 1990)\n",
      "('B. Hartmann', 'WAS', '3', 'PEDs', '', 2012)\n",
      "('M. Mraz', 'LA', '3', 'PEDs', '', 1989)\n",
      "('B. Riley', 'NYJ', '3', 'PEDs', '', 1989)\n",
      "('C. Benson', 'DEN', '3', 'Personal conduct', 'Misdemeanour assault', 2014)\n",
      "('A. Berry', 'CLE', '3', 'Personal conduct', 'DUI arrest', 2012)\n",
      "('J. Felton', 'CAR', '3', 'Personal conduct', 'Reckless driving', 2013)\n",
      "('C. Haggans', 'WAS', '3', 'Personal conduct', 'DUI arrest', 2013)\n",
      "('V. Jackson', 'SD', '3', 'Personal conduct', 'DUI arrest', 2010)\n",
      "('D. Jarrett', 'CAR', '3', 'Personal conduct', 'DUI arrest', 2012)\n",
      "('M. Jones', 'JAX', '3', 'Personal conduct', 'Arrest  cocaine possession', 2009)\n",
      "('M. Lynch', 'BUF', '3', 'Personal conduct', 'Misdemeanour gun charge', 2009)\n",
      "('M. Pittman', 'TB', '3', 'Personal conduct', 'Domestic violence', 2004)\n",
      "('D. Washington', 'KC', '3', 'Personal conduct', 'DUI marijuana-related', 2012)\n",
      "('D.J. Williams', 'DEN', '3', 'Personal conduct', 'DUI arrest', 2012)\n",
      "('L. Irvin', 'LA', '3', 'Substance abuse', 'Marijuana-related', 1989)\n",
      "('J. Simpson', 'IND', '3', 'Substance abuse', 'Marijuana-related', 2012)\n",
      "('C. Martin', 'GB', '2', 'In-game violence', 'Illegal hit', 1986)\n",
      "('N. Suh', 'DET', '2', 'In-game violence', 'Stomping on player', 2011)\n",
      "('W. Smith', 'NO', '2', 'PEDs', '', 2012)\n",
      "('K. Williams', 'MIN', '2', 'PEDs', '', 2011)\n",
      "('P. Williams', 'MIN', '2', 'PEDs', '', 2011)\n",
      "('S. Brandon', 'DEN', '2', 'Personal conduct', 'Domestic violence', 2007)\n",
      "('J. Bridges', 'ARI', '2', 'Personal conduct', 'Arrest misdemeanour assault for pointing gun at stripper', 2012)\n",
      "('F. Evans', 'MIN', '2', 'Personal conduct', 'Marijuana-related', 2012)\n",
      "('L. Hill', 'SEA', '2', 'Personal conduct', 'Domestic violence', 2013)\n",
      "('M. Leshoure', 'DET', '2', 'Personal conduct', 'Arrest Marijuana-related', 2012)\n",
      "('B. McDonald', 'FREE', '2', 'Personal conduct', '', 2013)\n",
      "('B. Underwood', 'GB', '2', 'Personal conduct', 'Domestic violence', 2011)\n",
      "('M. Vick', 'ATL', '2', 'Personal conduct', 'Dogfighting', 2007)\n",
      "('C. Williams', 'BAL', '2', 'Personal conduct', 'Domestic violence', 2010)\n",
      "('J. Babineaux', 'SEA', '2', 'Substance abuse', '', 2008)\n",
      "('J. Gordon', 'CLE', '2', 'Substance abuse', '', 2013)\n",
      "('D. Goldson', 'DEN', '1', 'In-game violence', 'Head-butt', 2013)\n",
      "('M. Griffin', 'TEN', '1', 'In-game violence', 'Illegal hit', 2013)\n",
      "('J. Harrison', 'PIT', '1', 'In-game violence', 'Helmet-to-helmet hit', 2011)\n",
      "('J. Mays', 'DEN', '1', 'In-game violence', 'Helmet-to-helmet hit', 2012)\n",
      "('B. Meriweather', 'WAS', '1', 'In-game violence', 'Helmet-to-helmet hit', 2013)\n",
      "('E. Walden', 'IND', '1', 'In-game violence', 'Head-butt', 2013)\n",
      "('J. Babineaux', 'ATL', '1', 'Personal conduct', 'Accused of battery and resisting arrest', 2010)\n",
      "('C. Benson', 'PIT', '1', 'Personal conduct', 'Misdemeanour assault', 2014)\n",
      "('R. Bernard', 'SEA', '1', 'Personal conduct', 'Assault', 2008)\n",
      "('M. Boley', 'NYG', '1', 'Personal conduct', 'Domestic violence', 2009)\n",
      "('K. Britt', 'TEN', '1', 'Personal conduct', 'DUI arrest', 2012)\n",
      "('D. Carswell', 'DEN', '1', 'Personal conduct', 'Domestic violence', 2003)\n",
      "('D. Dobbs', 'SF', '1', 'Personal conduct', 'DUI arrest possession of marijuana', 2013)\n",
      "('B. Hopkins', 'TEN', '1', 'Personal conduct', 'Domestic violence', 2005)\n",
      "('L. Johnson', 'KC', '1', 'Personal conduct', \"Simple assault for spitting drink in a woman's face\", 2008)\n",
      "('R. Manning', 'CHI', '1', 'Personal conduct', 'Felony arrest charges', 2006)\n",
      "('B. Marshall', 'DEN', '1', 'Personal conduct', 'Domestic violence', 2012)\n",
      "('T. McDaniel', 'TB', '1', 'Personal conduct', 'Domestic violence', 2010)\n",
      "('Q. Ojinnaka', 'ATL', '1', 'Personal conduct', 'Domestic violence', 2010)\n",
      "('M. Purify', 'CIN', '1', 'Personal conduct', 'Disorderly conduct', 2010)\n",
      "('D. Rhodes', 'CAR', '1', 'Personal conduct', 'Reckless driving', 2007)\n",
      "('V. Riley', 'KC', '1', 'Personal conduct', 'Domestic violence', 2002)\n",
      "('D. Rodgers', 'MIA', '1', 'Personal conduct', 'Domestic violence', 2003)\n",
      "('A. Talib', 'TB', '1', 'Personal conduct', 'Simple battery resisting arrest', 2009)\n",
      "('F. Washington', 'OAK', '1', 'Personal conduct', 'Domestic violence', 2008)\n",
      "('P. Zukauskas', 'CLE', '1', 'Personal conduct', 'DUI (acquitted)', 2004)\n",
      "('N. Bradham', 'BUF', '1', 'Substance abuse', 'Marijuana-related', 2014)\n",
      "('N. Collins', 'CHI', '1', 'Substance abuse', 'Marijuana-related', 2012)\n",
      "('T. Hali', 'KC', '1', 'Substance abuse', '', 2012)\n",
      "('I. Pead', 'STL', '1', 'Substance abuse', 'Marijuana-related', 2013)\n",
      "('D. Reed', 'BAL', '1', 'Substance abuse', 'Marijuana-related', 2011)\n",
      "('L. Wilson', 'NO', '1', 'Substance abuse', 'Marijuana-related', 2012)\n",
      "('D. Scott', 'MIN', '3', 'Personal conduct', 'Child endangerment', 2008)\n"
     ]
    }
   ],
   "source": [
    "sql_nfl_create = '''\n",
    "  DROP TABLE IF EXISTS suspensions;\n",
    "  \n",
    "  CREATE TABLE suspensions (\n",
    "    name     text,   \n",
    "    team   text,\n",
    "    games    text,\n",
    "    category text,\n",
    "    description text,\n",
    "    year int\n",
    "    )\n",
    "'''\n",
    "\n",
    "cur.execute(sql_nfl_create)\n",
    "\n",
    "with open('nfl-suspensions-data.csv') as nfldata:\n",
    "    cur.copy_from(nfldata, 'suspensions',sep=\",\", columns=('name', 'team', 'games', 'category', 'description', 'year'))\n",
    "\n",
    "def show_all_suspensions():\n",
    "    cur.execute(\"select * from Suspensions\")\n",
    "    rows = cur.fetchall()\n",
    "    for row in rows:\n",
    "        print(row)\n",
    "show_all_suspensions()"
   ]
  },
  {
   "cell_type": "markdown",
   "metadata": {},
   "source": [
    "Now let us perform some table operations to visualize some interesting trends about the above data. First let us visualize the top 10 teams with the most suspensions and how suspension numbers have changed over the years.\n",
    "\n",
    "To visualize the trends we will be using matplotlib. This .bar() method will draw a bar plot while the .plot() function will draw a line graph."
   ]
  },
  {
   "cell_type": "code",
   "execution_count": 16,
   "metadata": {},
   "outputs": [
    {
     "data": {
      "image/png": "[encoded data removed]",
      "text/plain": [
       "<Figure size 432x288 with 1 Axes>"
      ]
     },
     "metadata": {
      "needs_background": "light"
     },
     "output_type": "display_data"
    },
    {
     "data": {
      "image/png": "[encoded data removed]",
      "text/plain": [
       "<Figure size 432x288 with 1 Axes>"
      ]
     },
     "metadata": {
      "needs_background": "light"
     },
     "output_type": "display_data"
    }
   ],
   "source": [
    "def plotBar():\n",
    "    groupTeams = '''\n",
    "    SELECT team, count(team)\n",
    "    FROM suspensions\n",
    "    GROUP BY team\n",
    "    ORDER BY team ASC\n",
    "    LIMIT 10\n",
    "    '''\n",
    "    \n",
    "    cur.execute(groupTeams)\n",
    "    rows = cur.fetchall()\n",
    "\n",
    "    \n",
    "    teams = [team for (team, count) in rows]\n",
    "    counts = [count for (team, count) in rows]\n",
    "    \n",
    "    plt.bar(teams, counts)\n",
    "    plt.show()\n",
    "    \n",
    "\n",
    "def plotTrend():\n",
    "    groupYears = '''\n",
    "    SELECT year, count(year)\n",
    "    FROM suspensions\n",
    "    WHERE year > 2005\n",
    "    GROUP BY year\n",
    "    ORDER BY year ASC\n",
    "    '''\n",
    "    cur.execute(groupYears)\n",
    "    rows = cur.fetchall()\n",
    "\n",
    "    \n",
    "    years = [year for (year, count) in rows]\n",
    "    counts = [count for (year, count) in rows]\n",
    "    \n",
    "    plt.plot(years, counts)\n",
    "    plt.show()\n",
    "\n",
    "plotBar()\n",
    "plotTrend()\n",
    "\n",
    "\n"
   ]
  },
  {
   "cell_type": "markdown",
   "metadata": {},
   "source": [
    "Looks good! Now let us see how we can map the different types of suspension categories by year. We can once use sql commands with combination of list comprehensions to do this."
   ]
  },
  {
   "cell_type": "code",
   "execution_count": 17,
   "metadata": {},
   "outputs": [
    {
     "data": {
      "image/png": "[encoded data removed]",
      "text/plain": [
       "<Figure size 432x288 with 1 Axes>"
      ]
     },
     "metadata": {
      "needs_background": "light"
     },
     "output_type": "display_data"
    }
   ],
   "source": [
    "\n",
    "\n",
    "def getCategories():\n",
    "    #gets names of all possible categories\n",
    "    categorySearch = '''\n",
    "    SELECT category\n",
    "    FROM suspensions\n",
    "    GROUP BY category\n",
    "    '''\n",
    "    cur.execute(categorySearch)\n",
    "    rows = cur.fetchall()\n",
    "    return [category for category in rows]\n",
    "    \n",
    "\n",
    "\n",
    "def plotCategoryTrend(category):\n",
    "    # plots each category against year\n",
    "    groupTeams = '''\n",
    "    SELECT year, count(year)\n",
    "    FROM suspensions\n",
    "    WHERE year > 2005 and category = %s\n",
    "    GROUP BY year\n",
    "    ORDER BY year ASC\n",
    "    ''' \n",
    "    \n",
    "    cur.execute(groupTeams, [category])\n",
    "    rows = cur.fetchall() \n",
    "    years = [year for (year, count) in rows]\n",
    "    counts = [count for (year, count) in rows]\n",
    "    plt.plot(years, counts)\n",
    "\n",
    "def plotFinalCategory():\n",
    "    # plots all categories\n",
    "    categories = getCategories()\n",
    "    for c in categories:\n",
    "        plotCategoryTrend(c[0])\n",
    "    plt.legend(categories)\n",
    "    plt.show()\n",
    "   \n",
    "plotFinalCategory()"
   ]
  },
  {
   "cell_type": "markdown",
   "metadata": {},
   "source": [
    "# Other Sources"
   ]
  },
  {
   "cell_type": "markdown",
   "metadata": {},
   "source": [
    "You can learn more about psycopg2, PostgreSQL and relational databases through the following links!"
   ]
  },
  {
   "cell_type": "markdown",
   "metadata": {},
   "source": [
    "Relational Databases:\n",
    "\n",
    "https://dev.to/lmolivera/everything-you-need-to-know-about-relational-databases-3ejl\n",
    "\n",
    "\n",
    "PostgreSQL:\n",
    "\n",
    "https://www.postgresql.org/docs/\n",
    "\n",
    "https://bytescout.com/blog/postgresql-advanced-queries.html\n",
    "\n",
    "Psycopg2:\n",
    "\n",
    "https://stackabuse.com/working-with-postgresql-in-python/\n",
    "\n",
    "http://initd.org/psycopg/docs/\n",
    "\n",
    "    \n"
   ]
  },
  {
   "cell_type": "markdown",
   "metadata": {},
   "source": [
    "Sources: \n",
    "\n",
    "NFL Data https: //github.com/fivethirtyeight/data\n",
    "         \n",
    "PostgreSQL Download 67262 Notes"
   ]
  },
  {
   "cell_type": "code",
   "execution_count": null,
   "metadata": {},
   "outputs": [],
   "source": []
  }
 ],
 "metadata": {
  "kernelspec": {
   "display_name": "Python 3",
   "language": "python",
   "name": "python3"
  },
  "language_info": {
   "codemirror_mode": {
    "name": "ipython",
    "version": 3
   },
   "file_extension": ".py",
   "mimetype": "text/x-python",
   "name": "python",
   "nbconvert_exporter": "python",
   "pygments_lexer": "ipython3",
   "version": "3.6.8"
  }
 },
 "nbformat": 4,
 "nbformat_minor": 2
}
